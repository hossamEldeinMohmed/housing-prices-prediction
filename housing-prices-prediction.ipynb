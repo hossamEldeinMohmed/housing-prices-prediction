{
 "cells": [
  {
   "cell_type": "code",
   "execution_count": 1,
   "id": "6ed73e94",
   "metadata": {
    "execution": {
     "iopub.execute_input": "2022-10-25T06:54:02.224720Z",
     "iopub.status.busy": "2022-10-25T06:54:02.224197Z",
     "iopub.status.idle": "2022-10-25T06:54:03.352422Z",
     "shell.execute_reply": "2022-10-25T06:54:03.351127Z"
    },
    "papermill": {
     "duration": 1.148795,
     "end_time": "2022-10-25T06:54:03.355801",
     "exception": false,
     "start_time": "2022-10-25T06:54:02.207006",
     "status": "completed"
    },
    "tags": []
   },
   "outputs": [],
   "source": [
    "import pandas as pd\n",
    "import seaborn as sns\n",
    "import matplotlib.pyplot as plt\n"
   ]
  },
  {
   "cell_type": "markdown",
   "id": "f14bb75a",
   "metadata": {
    "papermill": {
     "duration": 0.015224,
     "end_time": "2022-10-25T06:54:03.385025",
     "exception": false,
     "start_time": "2022-10-25T06:54:03.369801",
     "status": "completed"
    },
    "tags": []
   },
   "source": [
    "# Loading Data\n",
    "Let's get started by loading the housing data into a dataframe using pd library"
   ]
  },
  {
   "cell_type": "code",
   "execution_count": 2,
   "id": "1b1da63c",
   "metadata": {
    "execution": {
     "iopub.execute_input": "2022-10-25T06:54:03.413757Z",
     "iopub.status.busy": "2022-10-25T06:54:03.413285Z",
     "iopub.status.idle": "2022-10-25T06:54:03.433885Z",
     "shell.execute_reply": "2022-10-25T06:54:03.432907Z"
    },
    "papermill": {
     "duration": 0.037874,
     "end_time": "2022-10-25T06:54:03.436419",
     "exception": false,
     "start_time": "2022-10-25T06:54:03.398545",
     "status": "completed"
    },
    "tags": []
   },
   "outputs": [],
   "source": [
    "h_d = pd.read_csv('../input/housing-prices-dataset/Housing.csv')"
   ]
  },
  {
   "cell_type": "code",
   "execution_count": 3,
   "id": "5904f60e",
   "metadata": {
    "execution": {
     "iopub.execute_input": "2022-10-25T06:54:03.466034Z",
     "iopub.status.busy": "2022-10-25T06:54:03.465506Z",
     "iopub.status.idle": "2022-10-25T06:54:03.490559Z",
     "shell.execute_reply": "2022-10-25T06:54:03.489346Z"
    },
    "papermill": {
     "duration": 0.043184,
     "end_time": "2022-10-25T06:54:03.493545",
     "exception": false,
     "start_time": "2022-10-25T06:54:03.450361",
     "status": "completed"
    },
    "tags": []
   },
   "outputs": [
    {
     "data": {
      "text/html": [
       "<div>\n",
       "<style scoped>\n",
       "    .dataframe tbody tr th:only-of-type {\n",
       "        vertical-align: middle;\n",
       "    }\n",
       "\n",
       "    .dataframe tbody tr th {\n",
       "        vertical-align: top;\n",
       "    }\n",
       "\n",
       "    .dataframe thead th {\n",
       "        text-align: right;\n",
       "    }\n",
       "</style>\n",
       "<table border=\"1\" class=\"dataframe\">\n",
       "  <thead>\n",
       "    <tr style=\"text-align: right;\">\n",
       "      <th></th>\n",
       "      <th>price</th>\n",
       "      <th>area</th>\n",
       "      <th>bedrooms</th>\n",
       "      <th>bathrooms</th>\n",
       "      <th>stories</th>\n",
       "      <th>mainroad</th>\n",
       "      <th>guestroom</th>\n",
       "      <th>basement</th>\n",
       "      <th>hotwaterheating</th>\n",
       "      <th>airconditioning</th>\n",
       "      <th>parking</th>\n",
       "      <th>prefarea</th>\n",
       "      <th>furnishingstatus</th>\n",
       "    </tr>\n",
       "  </thead>\n",
       "  <tbody>\n",
       "    <tr>\n",
       "      <th>0</th>\n",
       "      <td>13300000</td>\n",
       "      <td>7420</td>\n",
       "      <td>4</td>\n",
       "      <td>2</td>\n",
       "      <td>3</td>\n",
       "      <td>yes</td>\n",
       "      <td>no</td>\n",
       "      <td>no</td>\n",
       "      <td>no</td>\n",
       "      <td>yes</td>\n",
       "      <td>2</td>\n",
       "      <td>yes</td>\n",
       "      <td>furnished</td>\n",
       "    </tr>\n",
       "    <tr>\n",
       "      <th>1</th>\n",
       "      <td>12250000</td>\n",
       "      <td>8960</td>\n",
       "      <td>4</td>\n",
       "      <td>4</td>\n",
       "      <td>4</td>\n",
       "      <td>yes</td>\n",
       "      <td>no</td>\n",
       "      <td>no</td>\n",
       "      <td>no</td>\n",
       "      <td>yes</td>\n",
       "      <td>3</td>\n",
       "      <td>no</td>\n",
       "      <td>furnished</td>\n",
       "    </tr>\n",
       "    <tr>\n",
       "      <th>2</th>\n",
       "      <td>12250000</td>\n",
       "      <td>9960</td>\n",
       "      <td>3</td>\n",
       "      <td>2</td>\n",
       "      <td>2</td>\n",
       "      <td>yes</td>\n",
       "      <td>no</td>\n",
       "      <td>yes</td>\n",
       "      <td>no</td>\n",
       "      <td>no</td>\n",
       "      <td>2</td>\n",
       "      <td>yes</td>\n",
       "      <td>semi-furnished</td>\n",
       "    </tr>\n",
       "    <tr>\n",
       "      <th>3</th>\n",
       "      <td>12215000</td>\n",
       "      <td>7500</td>\n",
       "      <td>4</td>\n",
       "      <td>2</td>\n",
       "      <td>2</td>\n",
       "      <td>yes</td>\n",
       "      <td>no</td>\n",
       "      <td>yes</td>\n",
       "      <td>no</td>\n",
       "      <td>yes</td>\n",
       "      <td>3</td>\n",
       "      <td>yes</td>\n",
       "      <td>furnished</td>\n",
       "    </tr>\n",
       "    <tr>\n",
       "      <th>4</th>\n",
       "      <td>11410000</td>\n",
       "      <td>7420</td>\n",
       "      <td>4</td>\n",
       "      <td>1</td>\n",
       "      <td>2</td>\n",
       "      <td>yes</td>\n",
       "      <td>yes</td>\n",
       "      <td>yes</td>\n",
       "      <td>no</td>\n",
       "      <td>yes</td>\n",
       "      <td>2</td>\n",
       "      <td>no</td>\n",
       "      <td>furnished</td>\n",
       "    </tr>\n",
       "  </tbody>\n",
       "</table>\n",
       "</div>"
      ],
      "text/plain": [
       "      price  area  bedrooms  bathrooms  stories mainroad guestroom basement  \\\n",
       "0  13300000  7420         4          2        3      yes        no       no   \n",
       "1  12250000  8960         4          4        4      yes        no       no   \n",
       "2  12250000  9960         3          2        2      yes        no      yes   \n",
       "3  12215000  7500         4          2        2      yes        no      yes   \n",
       "4  11410000  7420         4          1        2      yes       yes      yes   \n",
       "\n",
       "  hotwaterheating airconditioning  parking prefarea furnishingstatus  \n",
       "0              no             yes        2      yes        furnished  \n",
       "1              no             yes        3       no        furnished  \n",
       "2              no              no        2      yes   semi-furnished  \n",
       "3              no             yes        3      yes        furnished  \n",
       "4              no             yes        2       no        furnished  "
      ]
     },
     "execution_count": 3,
     "metadata": {},
     "output_type": "execute_result"
    }
   ],
   "source": [
    "h_d.head()"
   ]
  },
  {
   "cell_type": "markdown",
   "id": "c93737f9",
   "metadata": {
    "papermill": {
     "duration": 0.013324,
     "end_time": "2022-10-25T06:54:03.521292",
     "exception": false,
     "start_time": "2022-10-25T06:54:03.507968",
     "status": "completed"
    },
    "tags": []
   },
   "source": [
    "From the pricing data we observe the values are continous, thus its a regression problem. We will need a regressor model to predict prices <br>"
   ]
  },
  {
   "cell_type": "code",
   "execution_count": 4,
   "id": "03060b29",
   "metadata": {
    "execution": {
     "iopub.execute_input": "2022-10-25T06:54:03.550541Z",
     "iopub.status.busy": "2022-10-25T06:54:03.550097Z",
     "iopub.status.idle": "2022-10-25T06:54:03.559638Z",
     "shell.execute_reply": "2022-10-25T06:54:03.558834Z"
    },
    "papermill": {
     "duration": 0.026566,
     "end_time": "2022-10-25T06:54:03.561778",
     "exception": false,
     "start_time": "2022-10-25T06:54:03.535212",
     "status": "completed"
    },
    "tags": []
   },
   "outputs": [
    {
     "data": {
      "text/plain": [
       "price               0\n",
       "area                0\n",
       "bedrooms            0\n",
       "bathrooms           0\n",
       "stories             0\n",
       "mainroad            0\n",
       "guestroom           0\n",
       "basement            0\n",
       "hotwaterheating     0\n",
       "airconditioning     0\n",
       "parking             0\n",
       "prefarea            0\n",
       "furnishingstatus    0\n",
       "dtype: int64"
      ]
     },
     "execution_count": 4,
     "metadata": {},
     "output_type": "execute_result"
    }
   ],
   "source": [
    "h_d.isnull().sum()"
   ]
  },
  {
   "cell_type": "markdown",
   "id": "df084e41",
   "metadata": {
    "papermill": {
     "duration": 0.013492,
     "end_time": "2022-10-25T06:54:03.589295",
     "exception": false,
     "start_time": "2022-10-25T06:54:03.575803",
     "status": "completed"
    },
    "tags": []
   },
   "source": [
    "No null values in the data"
   ]
  },
  {
   "cell_type": "code",
   "execution_count": 5,
   "id": "39fbe36c",
   "metadata": {
    "execution": {
     "iopub.execute_input": "2022-10-25T06:54:03.618810Z",
     "iopub.status.busy": "2022-10-25T06:54:03.618032Z",
     "iopub.status.idle": "2022-10-25T06:54:03.634772Z",
     "shell.execute_reply": "2022-10-25T06:54:03.633617Z"
    },
    "papermill": {
     "duration": 0.034251,
     "end_time": "2022-10-25T06:54:03.637232",
     "exception": false,
     "start_time": "2022-10-25T06:54:03.602981",
     "status": "completed"
    },
    "tags": []
   },
   "outputs": [
    {
     "data": {
      "text/plain": [
       "0"
      ]
     },
     "execution_count": 5,
     "metadata": {},
     "output_type": "execute_result"
    }
   ],
   "source": [
    "h_d.duplicated().sum()"
   ]
  },
  {
   "cell_type": "markdown",
   "id": "5c191d57",
   "metadata": {
    "papermill": {
     "duration": 0.013918,
     "end_time": "2022-10-25T06:54:03.665150",
     "exception": false,
     "start_time": "2022-10-25T06:54:03.651232",
     "status": "completed"
    },
    "tags": []
   },
   "source": [
    "No duplicate rows"
   ]
  },
  {
   "cell_type": "markdown",
   "id": "6ccb70b7",
   "metadata": {
    "papermill": {
     "duration": 0.013421,
     "end_time": "2022-10-25T06:54:03.692410",
     "exception": false,
     "start_time": "2022-10-25T06:54:03.678989",
     "status": "completed"
    },
    "tags": []
   },
   "source": [
    "# Exploratory Data Analysis\n",
    "## Checking various price v/s attribute variations in viz"
   ]
  },
  {
   "cell_type": "markdown",
   "id": "d02e2005",
   "metadata": {
    "papermill": {
     "duration": 0.013403,
     "end_time": "2022-10-25T06:54:03.719655",
     "exception": false,
     "start_time": "2022-10-25T06:54:03.706252",
     "status": "completed"
    },
    "tags": []
   },
   "source": [
    "### Boxplot : Price v/s bedroom"
   ]
  },
  {
   "cell_type": "code",
   "execution_count": 6,
   "id": "f402b95d",
   "metadata": {
    "execution": {
     "iopub.execute_input": "2022-10-25T06:54:03.749096Z",
     "iopub.status.busy": "2022-10-25T06:54:03.748615Z",
     "iopub.status.idle": "2022-10-25T06:54:04.019384Z",
     "shell.execute_reply": "2022-10-25T06:54:04.018428Z"
    },
    "papermill": {
     "duration": 0.288399,
     "end_time": "2022-10-25T06:54:04.021860",
     "exception": false,
     "start_time": "2022-10-25T06:54:03.733461",
     "status": "completed"
    },
    "tags": []
   },
   "outputs": [
    {
     "data": {
      "image/png": "[encoded data removed]",
      "text/plain": [
       "<Figure size 432x288 with 1 Axes>"
      ]
     },
     "metadata": {
      "needs_background": "light"
     },
     "output_type": "display_data"
    }
   ],
   "source": [
    "sns.boxplot(x=h_d['bedrooms'],y=h_d['price'])\n",
    "plt.show()"
   ]
  },
  {
   "cell_type": "markdown",
   "id": "0003f667",
   "metadata": {
    "papermill": {
     "duration": 0.013743,
     "end_time": "2022-10-25T06:54:04.050064",
     "exception": false,
     "start_time": "2022-10-25T06:54:04.036321",
     "status": "completed"
    },
    "tags": []
   },
   "source": [
    "Conclusion: Bedrooms with 4 houses may have other features that are usually the costliest to buy "
   ]
  },
  {
   "cell_type": "markdown",
   "id": "efcc7c17",
   "metadata": {
    "papermill": {
     "duration": 0.013751,
     "end_time": "2022-10-25T06:54:04.077875",
     "exception": false,
     "start_time": "2022-10-25T06:54:04.064124",
     "status": "completed"
    },
    "tags": []
   },
   "source": [
    "### Violinplot : Price v/s furnishing status"
   ]
  },
  {
   "cell_type": "code",
   "execution_count": 7,
   "id": "8677fb37",
   "metadata": {
    "execution": {
     "iopub.execute_input": "2022-10-25T06:54:04.108261Z",
     "iopub.status.busy": "2022-10-25T06:54:04.107748Z",
     "iopub.status.idle": "2022-10-25T06:54:04.341283Z",
     "shell.execute_reply": "2022-10-25T06:54:04.340082Z"
    },
    "papermill": {
     "duration": 0.252372,
     "end_time": "2022-10-25T06:54:04.344243",
     "exception": false,
     "start_time": "2022-10-25T06:54:04.091871",
     "status": "completed"
    },
    "tags": []
   },
   "outputs": [
    {
     "data": {
      "image/png": "[encoded data removed]",
      "text/plain": [
       "<Figure size 432x288 with 1 Axes>"
      ]
     },
     "metadata": {
      "needs_background": "light"
     },
     "output_type": "display_data"
    }
   ],
   "source": [
    "sns.violinplot(x=h_d['furnishingstatus'],y=h_d['price'])\n",
    "plt.show()"
   ]
  },
  {
   "cell_type": "markdown",
   "id": "2930b45e",
   "metadata": {
    "papermill": {
     "duration": 0.014384,
     "end_time": "2022-10-25T06:54:04.373578",
     "exception": false,
     "start_time": "2022-10-25T06:54:04.359194",
     "status": "completed"
    },
    "tags": []
   },
   "source": [
    "Conclusion: Unfurnished houses are most economical"
   ]
  },
  {
   "cell_type": "markdown",
   "id": "a17b1f35",
   "metadata": {
    "papermill": {
     "duration": 0.014464,
     "end_time": "2022-10-25T06:54:04.402791",
     "exception": false,
     "start_time": "2022-10-25T06:54:04.388327",
     "status": "completed"
    },
    "tags": []
   },
   "source": []
  },
  {
   "cell_type": "markdown",
   "id": "3117a813",
   "metadata": {
    "papermill": {
     "duration": 0.014592,
     "end_time": "2022-10-25T06:54:04.432126",
     "exception": false,
     "start_time": "2022-10-25T06:54:04.417534",
     "status": "completed"
    },
    "tags": []
   },
   "source": [
    "### Strip plot : Price v/s Parking"
   ]
  },
  {
   "cell_type": "code",
   "execution_count": 8,
   "id": "a9e04dd6",
   "metadata": {
    "execution": {
     "iopub.execute_input": "2022-10-25T06:54:04.469765Z",
     "iopub.status.busy": "2022-10-25T06:54:04.468767Z",
     "iopub.status.idle": "2022-10-25T06:54:04.655504Z",
     "shell.execute_reply": "2022-10-25T06:54:04.654424Z"
    },
    "papermill": {
     "duration": 0.20664,
     "end_time": "2022-10-25T06:54:04.658069",
     "exception": false,
     "start_time": "2022-10-25T06:54:04.451429",
     "status": "completed"
    },
    "tags": []
   },
   "outputs": [
    {
     "data": {
      "image/png": "[encoded data removed]",
      "text/plain": [
       "<Figure size 432x288 with 1 Axes>"
      ]
     },
     "metadata": {
      "needs_background": "light"
     },
     "output_type": "display_data"
    }
   ],
   "source": [
    "sns.stripplot(x=h_d['parking'],y=h_d['price'])\n",
    "plt.show()"
   ]
  },
  {
   "cell_type": "markdown",
   "id": "5c4b90cc",
   "metadata": {
    "papermill": {
     "duration": 0.014713,
     "end_time": "2022-10-25T06:54:04.688554",
     "exception": false,
     "start_time": "2022-10-25T06:54:04.673841",
     "status": "completed"
    },
    "tags": []
   },
   "source": [
    "Conclusion : Most of the houses have no parking; houses with 2 parking slots have highest prices."
   ]
  },
  {
   "cell_type": "markdown",
   "id": "b2e7fc84",
   "metadata": {
    "papermill": {
     "duration": 0.014553,
     "end_time": "2022-10-25T06:54:04.718004",
     "exception": false,
     "start_time": "2022-10-25T06:54:04.703451",
     "status": "completed"
    },
    "tags": []
   },
   "source": [
    "# Correlation\n",
    "Strength and direction of linear relation between 2 attributes"
   ]
  },
  {
   "cell_type": "code",
   "execution_count": 9,
   "id": "d271a76c",
   "metadata": {
    "execution": {
     "iopub.execute_input": "2022-10-25T06:54:04.749693Z",
     "iopub.status.busy": "2022-10-25T06:54:04.749267Z",
     "iopub.status.idle": "2022-10-25T06:54:04.765601Z",
     "shell.execute_reply": "2022-10-25T06:54:04.764385Z"
    },
    "papermill": {
     "duration": 0.035196,
     "end_time": "2022-10-25T06:54:04.768136",
     "exception": false,
     "start_time": "2022-10-25T06:54:04.732940",
     "status": "completed"
    },
    "tags": []
   },
   "outputs": [
    {
     "data": {
      "text/html": [
       "<div>\n",
       "<style scoped>\n",
       "    .dataframe tbody tr th:only-of-type {\n",
       "        vertical-align: middle;\n",
       "    }\n",
       "\n",
       "    .dataframe tbody tr th {\n",
       "        vertical-align: top;\n",
       "    }\n",
       "\n",
       "    .dataframe thead th {\n",
       "        text-align: right;\n",
       "    }\n",
       "</style>\n",
       "<table border=\"1\" class=\"dataframe\">\n",
       "  <thead>\n",
       "    <tr style=\"text-align: right;\">\n",
       "      <th></th>\n",
       "      <th>price</th>\n",
       "      <th>area</th>\n",
       "      <th>bedrooms</th>\n",
       "      <th>bathrooms</th>\n",
       "      <th>stories</th>\n",
       "      <th>parking</th>\n",
       "    </tr>\n",
       "  </thead>\n",
       "  <tbody>\n",
       "    <tr>\n",
       "      <th>price</th>\n",
       "      <td>1.000000</td>\n",
       "      <td>0.535997</td>\n",
       "      <td>0.366494</td>\n",
       "      <td>0.517545</td>\n",
       "      <td>0.420712</td>\n",
       "      <td>0.384394</td>\n",
       "    </tr>\n",
       "    <tr>\n",
       "      <th>area</th>\n",
       "      <td>0.535997</td>\n",
       "      <td>1.000000</td>\n",
       "      <td>0.151858</td>\n",
       "      <td>0.193820</td>\n",
       "      <td>0.083996</td>\n",
       "      <td>0.352980</td>\n",
       "    </tr>\n",
       "    <tr>\n",
       "      <th>bedrooms</th>\n",
       "      <td>0.366494</td>\n",
       "      <td>0.151858</td>\n",
       "      <td>1.000000</td>\n",
       "      <td>0.373930</td>\n",
       "      <td>0.408564</td>\n",
       "      <td>0.139270</td>\n",
       "    </tr>\n",
       "    <tr>\n",
       "      <th>bathrooms</th>\n",
       "      <td>0.517545</td>\n",
       "      <td>0.193820</td>\n",
       "      <td>0.373930</td>\n",
       "      <td>1.000000</td>\n",
       "      <td>0.326165</td>\n",
       "      <td>0.177496</td>\n",
       "    </tr>\n",
       "    <tr>\n",
       "      <th>stories</th>\n",
       "      <td>0.420712</td>\n",
       "      <td>0.083996</td>\n",
       "      <td>0.408564</td>\n",
       "      <td>0.326165</td>\n",
       "      <td>1.000000</td>\n",
       "      <td>0.045547</td>\n",
       "    </tr>\n",
       "    <tr>\n",
       "      <th>parking</th>\n",
       "      <td>0.384394</td>\n",
       "      <td>0.352980</td>\n",
       "      <td>0.139270</td>\n",
       "      <td>0.177496</td>\n",
       "      <td>0.045547</td>\n",
       "      <td>1.000000</td>\n",
       "    </tr>\n",
       "  </tbody>\n",
       "</table>\n",
       "</div>"
      ],
      "text/plain": [
       "              price      area  bedrooms  bathrooms   stories   parking\n",
       "price      1.000000  0.535997  0.366494   0.517545  0.420712  0.384394\n",
       "area       0.535997  1.000000  0.151858   0.193820  0.083996  0.352980\n",
       "bedrooms   0.366494  0.151858  1.000000   0.373930  0.408564  0.139270\n",
       "bathrooms  0.517545  0.193820  0.373930   1.000000  0.326165  0.177496\n",
       "stories    0.420712  0.083996  0.408564   0.326165  1.000000  0.045547\n",
       "parking    0.384394  0.352980  0.139270   0.177496  0.045547  1.000000"
      ]
     },
     "execution_count": 9,
     "metadata": {},
     "output_type": "execute_result"
    }
   ],
   "source": [
    "corr = h_d.corr()\n",
    "corr"
   ]
  },
  {
   "cell_type": "markdown",
   "id": "4c3991f2",
   "metadata": {
    "papermill": {
     "duration": 0.014966,
     "end_time": "2022-10-25T06:54:04.799248",
     "exception": false,
     "start_time": "2022-10-25T06:54:04.784282",
     "status": "completed"
    },
    "tags": []
   },
   "source": [
    "From the above table we observe that area, bathrooms, stories are most significant factors to affect the pricing value."
   ]
  },
  {
   "cell_type": "code",
   "execution_count": 10,
   "id": "ec3af99e",
   "metadata": {
    "execution": {
     "iopub.execute_input": "2022-10-25T06:54:04.831952Z",
     "iopub.status.busy": "2022-10-25T06:54:04.831191Z",
     "iopub.status.idle": "2022-10-25T06:54:04.839099Z",
     "shell.execute_reply": "2022-10-25T06:54:04.838243Z"
    },
    "papermill": {
     "duration": 0.026652,
     "end_time": "2022-10-25T06:54:04.841233",
     "exception": false,
     "start_time": "2022-10-25T06:54:04.814581",
     "status": "completed"
    },
    "tags": []
   },
   "outputs": [
    {
     "data": {
      "text/plain": [
       "price                int64\n",
       "area                 int64\n",
       "bedrooms             int64\n",
       "bathrooms            int64\n",
       "stories              int64\n",
       "mainroad            object\n",
       "guestroom           object\n",
       "basement            object\n",
       "hotwaterheating     object\n",
       "airconditioning     object\n",
       "parking              int64\n",
       "prefarea            object\n",
       "furnishingstatus    object\n",
       "dtype: object"
      ]
     },
     "execution_count": 10,
     "metadata": {},
     "output_type": "execute_result"
    }
   ],
   "source": [
    "h_d.dtypes"
   ]
  },
  {
   "cell_type": "markdown",
   "id": "b53966fd",
   "metadata": {
    "papermill": {
     "duration": 0.014935,
     "end_time": "2022-10-25T06:54:04.872735",
     "exception": false,
     "start_time": "2022-10-25T06:54:04.857800",
     "status": "completed"
    },
    "tags": []
   },
   "source": [
    "We need to label encode the object data types to train our model"
   ]
  },
  {
   "cell_type": "code",
   "execution_count": 11,
   "id": "85144387",
   "metadata": {
    "execution": {
     "iopub.execute_input": "2022-10-25T06:54:04.905686Z",
     "iopub.status.busy": "2022-10-25T06:54:04.905020Z",
     "iopub.status.idle": "2022-10-25T06:54:05.050544Z",
     "shell.execute_reply": "2022-10-25T06:54:05.049141Z"
    },
    "papermill": {
     "duration": 0.165318,
     "end_time": "2022-10-25T06:54:05.053402",
     "exception": false,
     "start_time": "2022-10-25T06:54:04.888084",
     "status": "completed"
    },
    "tags": []
   },
   "outputs": [],
   "source": [
    "from sklearn.preprocessing import LabelEncoder"
   ]
  },
  {
   "cell_type": "code",
   "execution_count": 12,
   "id": "24d487d3",
   "metadata": {
    "execution": {
     "iopub.execute_input": "2022-10-25T06:54:05.086116Z",
     "iopub.status.busy": "2022-10-25T06:54:05.085612Z",
     "iopub.status.idle": "2022-10-25T06:54:05.090852Z",
     "shell.execute_reply": "2022-10-25T06:54:05.089662Z"
    },
    "papermill": {
     "duration": 0.024247,
     "end_time": "2022-10-25T06:54:05.093231",
     "exception": false,
     "start_time": "2022-10-25T06:54:05.068984",
     "status": "completed"
    },
    "tags": []
   },
   "outputs": [],
   "source": [
    "lb = LabelEncoder()"
   ]
  },
  {
   "cell_type": "markdown",
   "id": "d699da7a",
   "metadata": {
    "papermill": {
     "duration": 0.014986,
     "end_time": "2022-10-25T06:54:05.123861",
     "exception": false,
     "start_time": "2022-10-25T06:54:05.108875",
     "status": "completed"
    },
    "tags": []
   },
   "source": [
    "I will put all the object datatype columns into a list so I can iterate through them to Label Encode them."
   ]
  },
  {
   "cell_type": "code",
   "execution_count": 13,
   "id": "6f119a5c",
   "metadata": {
    "execution": {
     "iopub.execute_input": "2022-10-25T06:54:05.156520Z",
     "iopub.status.busy": "2022-10-25T06:54:05.156102Z",
     "iopub.status.idle": "2022-10-25T06:54:05.164980Z",
     "shell.execute_reply": "2022-10-25T06:54:05.164108Z"
    },
    "papermill": {
     "duration": 0.027846,
     "end_time": "2022-10-25T06:54:05.167057",
     "exception": false,
     "start_time": "2022-10-25T06:54:05.139211",
     "status": "completed"
    },
    "tags": []
   },
   "outputs": [],
   "source": [
    "cat_data = ['mainroad','guestroom','basement','hotwaterheating','airconditioning','prefarea','furnishingstatus']\n",
    "for i in cat_data:\n",
    "    h_d[i] = lb.fit_transform(h_d[i])"
   ]
  },
  {
   "cell_type": "code",
   "execution_count": 14,
   "id": "133d77c4",
   "metadata": {
    "execution": {
     "iopub.execute_input": "2022-10-25T06:54:05.200358Z",
     "iopub.status.busy": "2022-10-25T06:54:05.199657Z",
     "iopub.status.idle": "2022-10-25T06:54:05.213214Z",
     "shell.execute_reply": "2022-10-25T06:54:05.212191Z"
    },
    "papermill": {
     "duration": 0.032894,
     "end_time": "2022-10-25T06:54:05.215455",
     "exception": false,
     "start_time": "2022-10-25T06:54:05.182561",
     "status": "completed"
    },
    "tags": []
   },
   "outputs": [
    {
     "data": {
      "text/html": [
       "<div>\n",
       "<style scoped>\n",
       "    .dataframe tbody tr th:only-of-type {\n",
       "        vertical-align: middle;\n",
       "    }\n",
       "\n",
       "    .dataframe tbody tr th {\n",
       "        vertical-align: top;\n",
       "    }\n",
       "\n",
       "    .dataframe thead th {\n",
       "        text-align: right;\n",
       "    }\n",
       "</style>\n",
       "<table border=\"1\" class=\"dataframe\">\n",
       "  <thead>\n",
       "    <tr style=\"text-align: right;\">\n",
       "      <th></th>\n",
       "      <th>price</th>\n",
       "      <th>area</th>\n",
       "      <th>bedrooms</th>\n",
       "      <th>bathrooms</th>\n",
       "      <th>stories</th>\n",
       "      <th>mainroad</th>\n",
       "      <th>guestroom</th>\n",
       "      <th>basement</th>\n",
       "      <th>hotwaterheating</th>\n",
       "      <th>airconditioning</th>\n",
       "      <th>parking</th>\n",
       "      <th>prefarea</th>\n",
       "      <th>furnishingstatus</th>\n",
       "    </tr>\n",
       "  </thead>\n",
       "  <tbody>\n",
       "    <tr>\n",
       "      <th>0</th>\n",
       "      <td>13300000</td>\n",
       "      <td>7420</td>\n",
       "      <td>4</td>\n",
       "      <td>2</td>\n",
       "      <td>3</td>\n",
       "      <td>1</td>\n",
       "      <td>0</td>\n",
       "      <td>0</td>\n",
       "      <td>0</td>\n",
       "      <td>1</td>\n",
       "      <td>2</td>\n",
       "      <td>1</td>\n",
       "      <td>0</td>\n",
       "    </tr>\n",
       "    <tr>\n",
       "      <th>1</th>\n",
       "      <td>12250000</td>\n",
       "      <td>8960</td>\n",
       "      <td>4</td>\n",
       "      <td>4</td>\n",
       "      <td>4</td>\n",
       "      <td>1</td>\n",
       "      <td>0</td>\n",
       "      <td>0</td>\n",
       "      <td>0</td>\n",
       "      <td>1</td>\n",
       "      <td>3</td>\n",
       "      <td>0</td>\n",
       "      <td>0</td>\n",
       "    </tr>\n",
       "    <tr>\n",
       "      <th>2</th>\n",
       "      <td>12250000</td>\n",
       "      <td>9960</td>\n",
       "      <td>3</td>\n",
       "      <td>2</td>\n",
       "      <td>2</td>\n",
       "      <td>1</td>\n",
       "      <td>0</td>\n",
       "      <td>1</td>\n",
       "      <td>0</td>\n",
       "      <td>0</td>\n",
       "      <td>2</td>\n",
       "      <td>1</td>\n",
       "      <td>1</td>\n",
       "    </tr>\n",
       "    <tr>\n",
       "      <th>3</th>\n",
       "      <td>12215000</td>\n",
       "      <td>7500</td>\n",
       "      <td>4</td>\n",
       "      <td>2</td>\n",
       "      <td>2</td>\n",
       "      <td>1</td>\n",
       "      <td>0</td>\n",
       "      <td>1</td>\n",
       "      <td>0</td>\n",
       "      <td>1</td>\n",
       "      <td>3</td>\n",
       "      <td>1</td>\n",
       "      <td>0</td>\n",
       "    </tr>\n",
       "    <tr>\n",
       "      <th>4</th>\n",
       "      <td>11410000</td>\n",
       "      <td>7420</td>\n",
       "      <td>4</td>\n",
       "      <td>1</td>\n",
       "      <td>2</td>\n",
       "      <td>1</td>\n",
       "      <td>1</td>\n",
       "      <td>1</td>\n",
       "      <td>0</td>\n",
       "      <td>1</td>\n",
       "      <td>2</td>\n",
       "      <td>0</td>\n",
       "      <td>0</td>\n",
       "    </tr>\n",
       "  </tbody>\n",
       "</table>\n",
       "</div>"
      ],
      "text/plain": [
       "      price  area  bedrooms  bathrooms  stories  mainroad  guestroom  \\\n",
       "0  13300000  7420         4          2        3         1          0   \n",
       "1  12250000  8960         4          4        4         1          0   \n",
       "2  12250000  9960         3          2        2         1          0   \n",
       "3  12215000  7500         4          2        2         1          0   \n",
       "4  11410000  7420         4          1        2         1          1   \n",
       "\n",
       "   basement  hotwaterheating  airconditioning  parking  prefarea  \\\n",
       "0         0                0                1        2         1   \n",
       "1         0                0                1        3         0   \n",
       "2         1                0                0        2         1   \n",
       "3         1                0                1        3         1   \n",
       "4         1                0                1        2         0   \n",
       "\n",
       "   furnishingstatus  \n",
       "0                 0  \n",
       "1                 0  \n",
       "2                 1  \n",
       "3                 0  \n",
       "4                 0  "
      ]
     },
     "execution_count": 14,
     "metadata": {},
     "output_type": "execute_result"
    }
   ],
   "source": [
    "h_d.head()"
   ]
  },
  {
   "cell_type": "markdown",
   "id": "7dcd5d24",
   "metadata": {
    "papermill": {
     "duration": 0.015298,
     "end_time": "2022-10-25T06:54:05.246613",
     "exception": false,
     "start_time": "2022-10-25T06:54:05.231315",
     "status": "completed"
    },
    "tags": []
   },
   "source": [
    "Now, all our columns are labelEncoded. "
   ]
  },
  {
   "cell_type": "markdown",
   "id": "78dddbb2",
   "metadata": {
    "papermill": {
     "duration": 0.015226,
     "end_time": "2022-10-25T06:54:05.277512",
     "exception": false,
     "start_time": "2022-10-25T06:54:05.262286",
     "status": "completed"
    },
    "tags": []
   },
   "source": [
    "# Evaluation functions"
   ]
  },
  {
   "cell_type": "markdown",
   "id": "107826aa",
   "metadata": {
    "papermill": {
     "duration": 0.015255,
     "end_time": "2022-10-25T06:54:05.308411",
     "exception": false,
     "start_time": "2022-10-25T06:54:05.293156",
     "status": "completed"
    },
    "tags": []
   },
   "source": [
    "I will create two function that will test my Training and Test scores and some Error Metrics respectively"
   ]
  },
  {
   "cell_type": "code",
   "execution_count": 15,
   "id": "efab5bab",
   "metadata": {
    "execution": {
     "iopub.execute_input": "2022-10-25T06:54:05.342006Z",
     "iopub.status.busy": "2022-10-25T06:54:05.341298Z",
     "iopub.status.idle": "2022-10-25T06:54:05.346333Z",
     "shell.execute_reply": "2022-10-25T06:54:05.345431Z"
    },
    "papermill": {
     "duration": 0.024614,
     "end_time": "2022-10-25T06:54:05.348690",
     "exception": false,
     "start_time": "2022-10-25T06:54:05.324076",
     "status": "completed"
    },
    "tags": []
   },
   "outputs": [],
   "source": [
    "def eval(model):\n",
    "    print(\"The training score is,\",model.score(x_train,y_train),end='\\n')\n",
    "    print(\"The testing score is,\",model.score(x_test,y_test))"
   ]
  },
  {
   "cell_type": "code",
   "execution_count": 16,
   "id": "132043c8",
   "metadata": {
    "execution": {
     "iopub.execute_input": "2022-10-25T06:54:05.382813Z",
     "iopub.status.busy": "2022-10-25T06:54:05.382108Z",
     "iopub.status.idle": "2022-10-25T06:54:05.387163Z",
     "shell.execute_reply": "2022-10-25T06:54:05.386287Z"
    },
    "papermill": {
     "duration": 0.024649,
     "end_time": "2022-10-25T06:54:05.389374",
     "exception": false,
     "start_time": "2022-10-25T06:54:05.364725",
     "status": "completed"
    },
    "tags": []
   },
   "outputs": [],
   "source": [
    "def metric_score(ypred,y_test):\n",
    "    print(\"The mean absolute error is: \",mean_absolute_error(ypred,y_test))\n",
    "    print(\"The mean squared error is: \",mean_squared_error(ypred,y_test))\n",
    "    print(\"The R2 score is: \",r2_score(ypred,y_test))"
   ]
  },
  {
   "cell_type": "markdown",
   "id": "5b72a2a8",
   "metadata": {
    "papermill": {
     "duration": 0.015349,
     "end_time": "2022-10-25T06:54:05.420570",
     "exception": false,
     "start_time": "2022-10-25T06:54:05.405221",
     "status": "completed"
    },
    "tags": []
   },
   "source": [
    "# Splitting the data"
   ]
  },
  {
   "cell_type": "code",
   "execution_count": 17,
   "id": "4f6d3cb2",
   "metadata": {
    "execution": {
     "iopub.execute_input": "2022-10-25T06:54:05.453624Z",
     "iopub.status.busy": "2022-10-25T06:54:05.453208Z",
     "iopub.status.idle": "2022-10-25T06:54:05.460410Z",
     "shell.execute_reply": "2022-10-25T06:54:05.459235Z"
    },
    "papermill": {
     "duration": 0.026543,
     "end_time": "2022-10-25T06:54:05.462835",
     "exception": false,
     "start_time": "2022-10-25T06:54:05.436292",
     "status": "completed"
    },
    "tags": []
   },
   "outputs": [],
   "source": [
    "x=h_d.drop('price',axis=1)\n",
    "y=h_d.price"
   ]
  },
  {
   "cell_type": "code",
   "execution_count": 18,
   "id": "c763715b",
   "metadata": {
    "execution": {
     "iopub.execute_input": "2022-10-25T06:54:05.496118Z",
     "iopub.status.busy": "2022-10-25T06:54:05.495672Z",
     "iopub.status.idle": "2022-10-25T06:54:05.506314Z",
     "shell.execute_reply": "2022-10-25T06:54:05.504924Z"
    },
    "papermill": {
     "duration": 0.030429,
     "end_time": "2022-10-25T06:54:05.509077",
     "exception": false,
     "start_time": "2022-10-25T06:54:05.478648",
     "status": "completed"
    },
    "tags": []
   },
   "outputs": [
    {
     "name": "stdout",
     "output_type": "stream",
     "text": [
      "   area  bedrooms  bathrooms  stories  mainroad  guestroom  basement  \\\n",
      "0  7420         4          2        3         1          0         0   \n",
      "1  8960         4          4        4         1          0         0   \n",
      "2  9960         3          2        2         1          0         1   \n",
      "3  7500         4          2        2         1          0         1   \n",
      "4  7420         4          1        2         1          1         1   \n",
      "\n",
      "   hotwaterheating  airconditioning  parking  prefarea  furnishingstatus  \n",
      "0                0                1        2         1                 0  \n",
      "1                0                1        3         0                 0  \n",
      "2                0                0        2         1                 1  \n",
      "3                0                1        3         1                 0  \n",
      "4                0                1        2         0                 0  \n",
      "0    13300000\n",
      "1    12250000\n",
      "2    12250000\n",
      "3    12215000\n",
      "4    11410000\n",
      "Name: price, dtype: int64\n",
      "<class 'pandas.core.frame.DataFrame'>\n",
      "<class 'pandas.core.series.Series'>\n"
     ]
    }
   ],
   "source": [
    "print(x.head())\n",
    "print(y.head())\n",
    "print(type(x))\n",
    "print(type(y))"
   ]
  },
  {
   "cell_type": "code",
   "execution_count": 19,
   "id": "c7cd01cb",
   "metadata": {
    "execution": {
     "iopub.execute_input": "2022-10-25T06:54:05.543097Z",
     "iopub.status.busy": "2022-10-25T06:54:05.542628Z",
     "iopub.status.idle": "2022-10-25T06:54:05.605448Z",
     "shell.execute_reply": "2022-10-25T06:54:05.604306Z"
    },
    "papermill": {
     "duration": 0.082738,
     "end_time": "2022-10-25T06:54:05.608353",
     "exception": false,
     "start_time": "2022-10-25T06:54:05.525615",
     "status": "completed"
    },
    "tags": []
   },
   "outputs": [],
   "source": [
    "from sklearn.model_selection import train_test_split\n",
    "from sklearn.metrics import mean_absolute_error, mean_squared_error,confusion_matrix,r2_score"
   ]
  },
  {
   "cell_type": "code",
   "execution_count": 20,
   "id": "5e2c53b7",
   "metadata": {
    "execution": {
     "iopub.execute_input": "2022-10-25T06:54:05.641763Z",
     "iopub.status.busy": "2022-10-25T06:54:05.641270Z",
     "iopub.status.idle": "2022-10-25T06:54:05.648755Z",
     "shell.execute_reply": "2022-10-25T06:54:05.647735Z"
    },
    "papermill": {
     "duration": 0.026552,
     "end_time": "2022-10-25T06:54:05.650837",
     "exception": false,
     "start_time": "2022-10-25T06:54:05.624285",
     "status": "completed"
    },
    "tags": []
   },
   "outputs": [],
   "source": [
    "x_train, x_test,y_train,y_test = train_test_split(x,y,test_size=0.3,random_state = 5)"
   ]
  },
  {
   "cell_type": "markdown",
   "id": "74a37d2b",
   "metadata": {
    "papermill": {
     "duration": 0.015842,
     "end_time": "2022-10-25T06:54:05.682677",
     "exception": false,
     "start_time": "2022-10-25T06:54:05.666835",
     "status": "completed"
    },
    "tags": []
   },
   "source": [
    "We split the data into training and test sets with 70:30 ratio"
   ]
  },
  {
   "cell_type": "code",
   "execution_count": 21,
   "id": "bbfd1262",
   "metadata": {
    "execution": {
     "iopub.execute_input": "2022-10-25T06:54:05.716413Z",
     "iopub.status.busy": "2022-10-25T06:54:05.715598Z",
     "iopub.status.idle": "2022-10-25T06:54:05.722276Z",
     "shell.execute_reply": "2022-10-25T06:54:05.721147Z"
    },
    "papermill": {
     "duration": 0.026879,
     "end_time": "2022-10-25T06:54:05.725395",
     "exception": false,
     "start_time": "2022-10-25T06:54:05.698516",
     "status": "completed"
    },
    "tags": []
   },
   "outputs": [
    {
     "name": "stdout",
     "output_type": "stream",
     "text": [
      "(381, 12)  <class 'pandas.core.frame.DataFrame'>\n",
      "(381,) \t  <class 'pandas.core.series.Series'>\n",
      "(164, 12)  <class 'pandas.core.frame.DataFrame'>\n",
      "(164,) \t  <class 'pandas.core.series.Series'>\n"
     ]
    }
   ],
   "source": [
    "print(x_train.shape,\"\",type(x_train))\n",
    "print(y_train.shape,\"\\t \",type(y_train))\n",
    "print(x_test.shape,\"\",type(x_test))\n",
    "print(y_test.shape,\"\\t \",type(y_test))"
   ]
  },
  {
   "cell_type": "markdown",
   "id": "1ceed94c",
   "metadata": {
    "papermill": {
     "duration": 0.015513,
     "end_time": "2022-10-25T06:54:05.757953",
     "exception": false,
     "start_time": "2022-10-25T06:54:05.742440",
     "status": "completed"
    },
    "tags": []
   },
   "source": [
    "# Model Validation\n",
    "We will use 3 models to check who's accuracy is best"
   ]
  },
  {
   "cell_type": "markdown",
   "id": "3a3ac429",
   "metadata": {
    "papermill": {
     "duration": 0.015394,
     "end_time": "2022-10-25T06:54:05.789141",
     "exception": false,
     "start_time": "2022-10-25T06:54:05.773747",
     "status": "completed"
    },
    "tags": []
   },
   "source": [
    "## 1) Decision Tree Regressor"
   ]
  },
  {
   "cell_type": "code",
   "execution_count": 22,
   "id": "98ec561b",
   "metadata": {
    "execution": {
     "iopub.execute_input": "2022-10-25T06:54:05.822571Z",
     "iopub.status.busy": "2022-10-25T06:54:05.822101Z",
     "iopub.status.idle": "2022-10-25T06:54:05.977970Z",
     "shell.execute_reply": "2022-10-25T06:54:05.976778Z"
    },
    "papermill": {
     "duration": 0.175891,
     "end_time": "2022-10-25T06:54:05.980815",
     "exception": false,
     "start_time": "2022-10-25T06:54:05.804924",
     "status": "completed"
    },
    "tags": []
   },
   "outputs": [],
   "source": [
    "from sklearn.tree import DecisionTreeRegressor"
   ]
  },
  {
   "cell_type": "markdown",
   "id": "3d0a1a38",
   "metadata": {
    "papermill": {
     "duration": 0.015453,
     "end_time": "2022-10-25T06:54:06.012345",
     "exception": false,
     "start_time": "2022-10-25T06:54:05.996892",
     "status": "completed"
    },
    "tags": []
   },
   "source": []
  },
  {
   "cell_type": "code",
   "execution_count": 23,
   "id": "a353f7df",
   "metadata": {
    "execution": {
     "iopub.execute_input": "2022-10-25T06:54:06.045914Z",
     "iopub.status.busy": "2022-10-25T06:54:06.045408Z",
     "iopub.status.idle": "2022-10-25T06:54:06.057650Z",
     "shell.execute_reply": "2022-10-25T06:54:06.056589Z"
    },
    "papermill": {
     "duration": 0.031554,
     "end_time": "2022-10-25T06:54:06.059683",
     "exception": false,
     "start_time": "2022-10-25T06:54:06.028129",
     "status": "completed"
    },
    "tags": []
   },
   "outputs": [
    {
     "data": {
      "text/plain": [
       "DecisionTreeRegressor(max_depth=10, min_samples_split=20, random_state=42)"
      ]
     },
     "execution_count": 23,
     "metadata": {},
     "output_type": "execute_result"
    }
   ],
   "source": [
    "DTRmodel = DecisionTreeRegressor(criterion='squared_error',splitter='best',max_depth = 10, min_samples_split=20,random_state=42)\n",
    "DTRmodel.fit(x_train,y_train)"
   ]
  },
  {
   "cell_type": "code",
   "execution_count": 24,
   "id": "00618417",
   "metadata": {
    "execution": {
     "iopub.execute_input": "2022-10-25T06:54:06.093807Z",
     "iopub.status.busy": "2022-10-25T06:54:06.093347Z",
     "iopub.status.idle": "2022-10-25T06:54:06.102760Z",
     "shell.execute_reply": "2022-10-25T06:54:06.101691Z"
    },
    "papermill": {
     "duration": 0.0289,
     "end_time": "2022-10-25T06:54:06.104861",
     "exception": false,
     "start_time": "2022-10-25T06:54:06.075961",
     "status": "completed"
    },
    "tags": []
   },
   "outputs": [
    {
     "name": "stdout",
     "output_type": "stream",
     "text": [
      "The training score is, 0.7359034045875587\n",
      "The testing score is, 0.4137533567860191\n"
     ]
    }
   ],
   "source": [
    "eval(DTRmodel)"
   ]
  },
  {
   "cell_type": "code",
   "execution_count": 25,
   "id": "059be14b",
   "metadata": {
    "execution": {
     "iopub.execute_input": "2022-10-25T06:54:06.138964Z",
     "iopub.status.busy": "2022-10-25T06:54:06.138441Z",
     "iopub.status.idle": "2022-10-25T06:54:06.146370Z",
     "shell.execute_reply": "2022-10-25T06:54:06.144994Z"
    },
    "papermill": {
     "duration": 0.02794,
     "end_time": "2022-10-25T06:54:06.148941",
     "exception": false,
     "start_time": "2022-10-25T06:54:06.121001",
     "status": "completed"
    },
    "tags": []
   },
   "outputs": [],
   "source": [
    "ypred = DTRmodel.predict(x_test)"
   ]
  },
  {
   "cell_type": "code",
   "execution_count": 26,
   "id": "cc2bb10e",
   "metadata": {
    "execution": {
     "iopub.execute_input": "2022-10-25T06:54:06.183837Z",
     "iopub.status.busy": "2022-10-25T06:54:06.183266Z",
     "iopub.status.idle": "2022-10-25T06:54:06.190733Z",
     "shell.execute_reply": "2022-10-25T06:54:06.189565Z"
    },
    "papermill": {
     "duration": 0.027953,
     "end_time": "2022-10-25T06:54:06.193332",
     "exception": false,
     "start_time": "2022-10-25T06:54:06.165379",
     "status": "completed"
    },
    "tags": []
   },
   "outputs": [
    {
     "name": "stdout",
     "output_type": "stream",
     "text": [
      "The mean absolute error is:  907505.2489050085\n",
      "The mean squared error is:  1471210626716.3113\n",
      "The R2 score is:  0.35889060137566764\n"
     ]
    }
   ],
   "source": [
    "metric_score(ypred,y_test)"
   ]
  },
  {
   "cell_type": "markdown",
   "id": "98808aa2",
   "metadata": {
    "papermill": {
     "duration": 0.015726,
     "end_time": "2022-10-25T06:54:06.225569",
     "exception": false,
     "start_time": "2022-10-25T06:54:06.209843",
     "status": "completed"
    },
    "tags": []
   },
   "source": [
    "Conclusion: When number of min sample split were low it was observed to be a highly overfit model with very bad test scores. On increasing min sample split and max depth the training scored reduced with around 20% increase in test scores. Still not a very good model for predictions."
   ]
  },
  {
   "cell_type": "markdown",
   "id": "2157031d",
   "metadata": {
    "papermill": {
     "duration": 0.01577,
     "end_time": "2022-10-25T06:54:06.257439",
     "exception": false,
     "start_time": "2022-10-25T06:54:06.241669",
     "status": "completed"
    },
    "tags": []
   },
   "source": [
    "## 2) Random Forest Regressor"
   ]
  },
  {
   "cell_type": "code",
   "execution_count": 27,
   "id": "7dee13cf",
   "metadata": {
    "execution": {
     "iopub.execute_input": "2022-10-25T06:54:06.291528Z",
     "iopub.status.busy": "2022-10-25T06:54:06.291083Z",
     "iopub.status.idle": "2022-10-25T06:54:06.357266Z",
     "shell.execute_reply": "2022-10-25T06:54:06.356036Z"
    },
    "papermill": {
     "duration": 0.086611,
     "end_time": "2022-10-25T06:54:06.360138",
     "exception": false,
     "start_time": "2022-10-25T06:54:06.273527",
     "status": "completed"
    },
    "tags": []
   },
   "outputs": [],
   "source": [
    "from sklearn.ensemble import RandomForestRegressor"
   ]
  },
  {
   "cell_type": "code",
   "execution_count": 28,
   "id": "efe68a48",
   "metadata": {
    "execution": {
     "iopub.execute_input": "2022-10-25T06:54:06.394398Z",
     "iopub.status.busy": "2022-10-25T06:54:06.393936Z",
     "iopub.status.idle": "2022-10-25T06:54:06.561294Z",
     "shell.execute_reply": "2022-10-25T06:54:06.560088Z"
    },
    "papermill": {
     "duration": 0.187625,
     "end_time": "2022-10-25T06:54:06.564070",
     "exception": false,
     "start_time": "2022-10-25T06:54:06.376445",
     "status": "completed"
    },
    "tags": []
   },
   "outputs": [
    {
     "data": {
      "text/plain": [
       "RandomForestRegressor(max_depth=10, min_samples_split=10, random_state=42)"
      ]
     },
     "execution_count": 28,
     "metadata": {},
     "output_type": "execute_result"
    }
   ],
   "source": [
    "RFRmodel = RandomForestRegressor(n_estimators=100,max_depth = 10, min_samples_split=10,random_state=42,criterion='squared_error')\n",
    "RFRmodel.fit(x_train,y_train)"
   ]
  },
  {
   "cell_type": "code",
   "execution_count": 29,
   "id": "0d4ea6df",
   "metadata": {
    "execution": {
     "iopub.execute_input": "2022-10-25T06:54:06.598605Z",
     "iopub.status.busy": "2022-10-25T06:54:06.598190Z",
     "iopub.status.idle": "2022-10-25T06:54:06.635411Z",
     "shell.execute_reply": "2022-10-25T06:54:06.634195Z"
    },
    "papermill": {
     "duration": 0.057572,
     "end_time": "2022-10-25T06:54:06.638041",
     "exception": false,
     "start_time": "2022-10-25T06:54:06.580469",
     "status": "completed"
    },
    "tags": []
   },
   "outputs": [
    {
     "name": "stdout",
     "output_type": "stream",
     "text": [
      "The training score is, 0.8294445816326053\n",
      "The testing score is, 0.6541797646271963\n"
     ]
    }
   ],
   "source": [
    "eval(RFRmodel)"
   ]
  },
  {
   "cell_type": "code",
   "execution_count": 30,
   "id": "7468616e",
   "metadata": {
    "execution": {
     "iopub.execute_input": "2022-10-25T06:54:06.673271Z",
     "iopub.status.busy": "2022-10-25T06:54:06.671968Z",
     "iopub.status.idle": "2022-10-25T06:54:06.690289Z",
     "shell.execute_reply": "2022-10-25T06:54:06.689338Z"
    },
    "papermill": {
     "duration": 0.038531,
     "end_time": "2022-10-25T06:54:06.692936",
     "exception": false,
     "start_time": "2022-10-25T06:54:06.654405",
     "status": "completed"
    },
    "tags": []
   },
   "outputs": [],
   "source": [
    "ypred2 = RFRmodel.predict(x_test)"
   ]
  },
  {
   "cell_type": "code",
   "execution_count": 31,
   "id": "6d2c2096",
   "metadata": {
    "execution": {
     "iopub.execute_input": "2022-10-25T06:54:06.727727Z",
     "iopub.status.busy": "2022-10-25T06:54:06.726603Z",
     "iopub.status.idle": "2022-10-25T06:54:06.734860Z",
     "shell.execute_reply": "2022-10-25T06:54:06.733298Z"
    },
    "papermill": {
     "duration": 0.028074,
     "end_time": "2022-10-25T06:54:06.737302",
     "exception": false,
     "start_time": "2022-10-25T06:54:06.709228",
     "status": "completed"
    },
    "tags": []
   },
   "outputs": [
    {
     "name": "stdout",
     "output_type": "stream",
     "text": [
      "The mean absolute error is:  719418.2400521481\n",
      "The mean squared error is:  867850436506.9796\n",
      "The R2 score is:  0.5034936387237565\n"
     ]
    }
   ],
   "source": [
    "metric_score(ypred2,y_test)"
   ]
  },
  {
   "cell_type": "markdown",
   "id": "28c9bb0d",
   "metadata": {
    "papermill": {
     "duration": 0.015984,
     "end_time": "2022-10-25T06:54:06.769958",
     "exception": false,
     "start_time": "2022-10-25T06:54:06.753974",
     "status": "completed"
    },
    "tags": []
   },
   "source": [
    "Conclusion: We see a significant 20% improve in testing score compared to Decision Tree Regressor, lesser error variation and 15% R2 score improvement. Changing hyper parameters give about 5-7% change in scores."
   ]
  },
  {
   "cell_type": "markdown",
   "id": "97b49e0a",
   "metadata": {
    "papermill": {
     "duration": 0.01616,
     "end_time": "2022-10-25T06:54:06.803149",
     "exception": false,
     "start_time": "2022-10-25T06:54:06.786989",
     "status": "completed"
    },
    "tags": []
   },
   "source": [
    "## 3) Linear Regression"
   ]
  },
  {
   "cell_type": "code",
   "execution_count": 32,
   "id": "dee3641f",
   "metadata": {
    "execution": {
     "iopub.execute_input": "2022-10-25T06:54:06.837783Z",
     "iopub.status.busy": "2022-10-25T06:54:06.837288Z",
     "iopub.status.idle": "2022-10-25T06:54:06.842979Z",
     "shell.execute_reply": "2022-10-25T06:54:06.841567Z"
    },
    "papermill": {
     "duration": 0.025931,
     "end_time": "2022-10-25T06:54:06.845422",
     "exception": false,
     "start_time": "2022-10-25T06:54:06.819491",
     "status": "completed"
    },
    "tags": []
   },
   "outputs": [],
   "source": [
    "from sklearn.linear_model import LinearRegression"
   ]
  },
  {
   "cell_type": "code",
   "execution_count": 33,
   "id": "219ed21c",
   "metadata": {
    "execution": {
     "iopub.execute_input": "2022-10-25T06:54:06.881511Z",
     "iopub.status.busy": "2022-10-25T06:54:06.881037Z",
     "iopub.status.idle": "2022-10-25T06:54:06.902081Z",
     "shell.execute_reply": "2022-10-25T06:54:06.900789Z"
    },
    "papermill": {
     "duration": 0.042184,
     "end_time": "2022-10-25T06:54:06.904749",
     "exception": false,
     "start_time": "2022-10-25T06:54:06.862565",
     "status": "completed"
    },
    "tags": []
   },
   "outputs": [
    {
     "data": {
      "text/plain": [
       "LinearRegression()"
      ]
     },
     "execution_count": 33,
     "metadata": {},
     "output_type": "execute_result"
    }
   ],
   "source": [
    "LRmodel = LinearRegression()\n",
    "LRmodel.fit(x_train,y_train)"
   ]
  },
  {
   "cell_type": "code",
   "execution_count": 34,
   "id": "22e047ae",
   "metadata": {
    "execution": {
     "iopub.execute_input": "2022-10-25T06:54:06.939816Z",
     "iopub.status.busy": "2022-10-25T06:54:06.939356Z",
     "iopub.status.idle": "2022-10-25T06:54:06.950903Z",
     "shell.execute_reply": "2022-10-25T06:54:06.949034Z"
    },
    "papermill": {
     "duration": 0.032162,
     "end_time": "2022-10-25T06:54:06.953424",
     "exception": false,
     "start_time": "2022-10-25T06:54:06.921262",
     "status": "completed"
    },
    "tags": []
   },
   "outputs": [
    {
     "name": "stdout",
     "output_type": "stream",
     "text": [
      "The training score is, 0.6722721620878298\n",
      "The testing score is, 0.670112729781189\n"
     ]
    }
   ],
   "source": [
    "eval(LRmodel)"
   ]
  },
  {
   "cell_type": "code",
   "execution_count": 35,
   "id": "801ad422",
   "metadata": {
    "execution": {
     "iopub.execute_input": "2022-10-25T06:54:06.989840Z",
     "iopub.status.busy": "2022-10-25T06:54:06.988585Z",
     "iopub.status.idle": "2022-10-25T06:54:06.996067Z",
     "shell.execute_reply": "2022-10-25T06:54:06.995082Z"
    },
    "papermill": {
     "duration": 0.027859,
     "end_time": "2022-10-25T06:54:06.998402",
     "exception": false,
     "start_time": "2022-10-25T06:54:06.970543",
     "status": "completed"
    },
    "tags": []
   },
   "outputs": [],
   "source": [
    "ypred3 = LRmodel.predict(x_test)"
   ]
  },
  {
   "cell_type": "code",
   "execution_count": 36,
   "id": "6326372a",
   "metadata": {
    "execution": {
     "iopub.execute_input": "2022-10-25T06:54:07.033871Z",
     "iopub.status.busy": "2022-10-25T06:54:07.033375Z",
     "iopub.status.idle": "2022-10-25T06:54:07.042053Z",
     "shell.execute_reply": "2022-10-25T06:54:07.040670Z"
    },
    "papermill": {
     "duration": 0.030083,
     "end_time": "2022-10-25T06:54:07.045327",
     "exception": false,
     "start_time": "2022-10-25T06:54:07.015244",
     "status": "completed"
    },
    "tags": []
   },
   "outputs": [
    {
     "name": "stdout",
     "output_type": "stream",
     "text": [
      "The mean absolute error is:  721569.6538611307\n",
      "The mean squared error is:  827865989822.312\n",
      "The R2 score is:  0.5614064514555352\n"
     ]
    }
   ],
   "source": [
    "metric_score(ypred3,y_test)"
   ]
  },
  {
   "cell_type": "markdown",
   "id": "2cb9137e",
   "metadata": {
    "papermill": {
     "duration": 0.016365,
     "end_time": "2022-10-25T06:54:07.078856",
     "exception": false,
     "start_time": "2022-10-25T06:54:07.062491",
     "status": "completed"
    },
    "tags": []
   },
   "source": [
    "Conclusion: Linear Regression Model the best model so far, having 6-8% better score than Random Forest."
   ]
  },
  {
   "cell_type": "markdown",
   "id": "40b8622e",
   "metadata": {
    "papermill": {
     "duration": 0.016407,
     "end_time": "2022-10-25T06:54:07.111970",
     "exception": false,
     "start_time": "2022-10-25T06:54:07.095563",
     "status": "completed"
    },
    "tags": []
   },
   "source": [
    "# Accuracy plot"
   ]
  },
  {
   "cell_type": "markdown",
   "id": "afc88206",
   "metadata": {
    "papermill": {
     "duration": 0.017204,
     "end_time": "2022-10-25T06:54:07.146445",
     "exception": false,
     "start_time": "2022-10-25T06:54:07.129241",
     "status": "completed"
    },
    "tags": []
   },
   "source": [
    "Lets plot the scores in a pie plot"
   ]
  },
  {
   "cell_type": "code",
   "execution_count": 37,
   "id": "fc37d148",
   "metadata": {
    "execution": {
     "iopub.execute_input": "2022-10-25T06:54:07.182145Z",
     "iopub.status.busy": "2022-10-25T06:54:07.181145Z",
     "iopub.status.idle": "2022-10-25T06:54:07.272482Z",
     "shell.execute_reply": "2022-10-25T06:54:07.270997Z"
    },
    "papermill": {
     "duration": 0.113195,
     "end_time": "2022-10-25T06:54:07.276399",
     "exception": false,
     "start_time": "2022-10-25T06:54:07.163204",
     "status": "completed"
    },
    "tags": []
   },
   "outputs": [
    {
     "data": {
      "image/png": "[encoded data removed]",
      "text/plain": [
       "<Figure size 432x288 with 1 Axes>"
      ]
     },
     "metadata": {},
     "output_type": "display_data"
    }
   ],
   "source": [
    "import matplotlib.pyplot as plt\n",
    "\n",
    "models = ['Decision Tree','Random Forest','Linear Regression']\n",
    "scores = [35.5,50.3,56.1]\n",
    "\n",
    "plt.pie(scores,labels=models)\n",
    "plt.show()"
   ]
  },
  {
   "cell_type": "markdown",
   "id": "6e01c965",
   "metadata": {
    "papermill": {
     "duration": 0.031231,
     "end_time": "2022-10-25T06:54:07.336297",
     "exception": false,
     "start_time": "2022-10-25T06:54:07.305066",
     "status": "completed"
    },
    "tags": []
   },
   "source": [
    "### Thank you! Hope it helped!"
   ]
  },
  {
   "cell_type": "code",
   "execution_count": null,
   "id": "85682948",
   "metadata": {
    "execution": {
     "iopub.execute_input": "2022-09-18T10:23:21.750318Z",
     "iopub.status.busy": "2022-09-18T10:23:21.74991Z",
     "iopub.status.idle": "2022-09-18T10:23:21.755309Z",
     "shell.execute_reply": "2022-09-18T10:23:21.754159Z",
     "shell.execute_reply.started": "2022-09-18T10:23:21.750284Z"
    },
    "papermill": {
     "duration": 0.016516,
     "end_time": "2022-10-25T06:54:07.380477",
     "exception": false,
     "start_time": "2022-10-25T06:54:07.363961",
     "status": "completed"
    },
    "tags": []
   },
   "outputs": [],
   "source": []
  }
 ],
 "metadata": {
  "kernelspec": {
   "display_name": "Python 3",
   "language": "python",
   "name": "python3"
  },
  "language_info": {
   "codemirror_mode": {
    "name": "ipython",
    "version": 3
   },
   "file_extension": ".py",
   "mimetype": "text/x-python",
   "name": "python",
   "nbconvert_exporter": "python",
   "pygments_lexer": "ipython3",
   "version": "3.7.12"
  },
  "papermill": {
   "default_parameters": {},
   "duration": 14.699281,
   "end_time": "2022-10-25T06:54:08.120380",
   "environment_variables": {},
   "exception": null,
   "input_path": "__notebook__.ipynb",
   "output_path": "__notebook__.ipynb",
   "parameters": {},
   "start_time": "2022-10-25T06:53:53.421099",
   "version": "2.3.4"
  }
 },
 "nbformat": 4,
 "nbformat_minor": 5
}
